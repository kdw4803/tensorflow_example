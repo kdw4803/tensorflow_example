{
 "cells": [
  {
   "cell_type": "markdown",
   "metadata": {},
   "source": [
    "# Intro to Machine Learning (feat. Tensorflow)\n",
    "\n",
    "2017.4.13\n",
    "Dongwoo 화목회"
   ]
  },
  {
   "cell_type": "markdown",
   "metadata": {},
   "source": [
    "## Definition"
   ]
  },
  {
   "cell_type": "markdown",
   "metadata": {},
   "source": [
    "Machine learning is the subfield of computer science that gives computers the ability to learn without being explicitly programmed."
   ]
  },
  {
   "cell_type": "markdown",
   "metadata": {},
   "source": [
    "## Supervised vs Unsupervised ( vs reinforcement )\n",
    "- supervised\n",
    "    - Regression problem\n",
    "    - Classification problem\n",
    "- unsupervised\n",
    "    - Clustering\n",
    "- reinforecement"
   ]
  },
  {
   "cell_type": "markdown",
   "metadata": {},
   "source": [
    "## Tensorflow\n",
    "Tensorflow is an open-source software library for Machine Intelligence. It was developed by Google to meet their needs for systems capable of building and training neural networks."
   ]
  },
  {
   "cell_type": "markdown",
   "metadata": {},
   "source": [
    "## Before Start.."
   ]
  },
  {
   "cell_type": "markdown",
   "metadata": {},
   "source": [
    "### Hypothesis\n",
    "H(x) = Wx + b에서 Wx + b는 x에 대한 1차 방적식으로 직선을 표현한다. 기울기에 해당하는 W(Weight)와 절편에 해당하는 b(bias)가 반복되는 과정에서 계속 바뀌고, 마지막 루프에서 바뀐 최종 값을 사용해서 데이터 예측(prediction)에 사용하게 된다. 최종 결과로 나온 가설을 모델(model)이라고 부르고, \"학습되었다\"라고 한다.\n",
    "![title](hypothesis.png)"
   ]
  },
  {
   "cell_type": "markdown",
   "metadata": {},
   "source": [
    "### Cost function\n",
    "앞에서 설명한 Hypothesis 방정식에 대한 비용(cost)으로 방정식의 결과가 크게 나오면 좋지 않다고 얘기하고, 루프를 돌 때마다 W와 b를 비용이 적게 발생하는 방향으로 수정하게 된다.\n",
    "![title](cost_function.png)"
   ]
  },
  {
   "cell_type": "markdown",
   "metadata": {},
   "source": [
    "### Goal : Minimize cost\n",
    "목표는 cost를 최소로 만드는 W(기울기)와 b(절편)를 찾는 것"
   ]
  },
  {
   "cell_type": "markdown",
   "metadata": {},
   "source": [
    "## Linear Regression\n",
    "2차원 좌표에 분포된 데이터를 1차원 직선 방정식을 통해 표현되지 않은 데이터를 예측하기 위한 분석 모델"
   ]
  },
  {
   "cell_type": "markdown",
   "metadata": {},
   "source": [
    "### Gradient descent algorithm"
   ]
  },
  {
   "cell_type": "markdown",
   "metadata": {},
   "source": [
    "![title](linear1.png)"
   ]
  },
  {
   "cell_type": "markdown",
   "metadata": {},
   "source": [
    "![title](linear2.png)"
   ]
  },
  {
   "cell_type": "code",
   "execution_count": 22,
   "metadata": {
    "collapsed": true
   },
   "outputs": [],
   "source": [
    "import tensorflow as tf\n",
    "import matplotlib.pyplot as plt"
   ]
  },
  {
   "cell_type": "code",
   "execution_count": 36,
   "metadata": {},
   "outputs": [
    {
     "name": "stdout",
     "output_type": "stream",
     "text": [
      "200 163.948 [ 12.65646839] [-31.33131599]\n",
      "400 49.4119 [ 7.85027409] [-17.20051956]\n",
      "600 14.8921 [ 5.21173] [-9.44287872]\n",
      "800 4.48831 [ 3.76320076] [-5.18402481]\n",
      "1000 1.35272 [ 2.96797681] [-2.84596992]\n",
      "1200 0.407695 [ 2.53140807] [-1.5624038]\n",
      "1400 0.122874 [ 2.2917366] [-0.857741]\n",
      "1600 0.0370329 [ 2.16016006] [-0.47088954]\n",
      "1800 0.0111613 [ 2.08792591] [-0.25851271]\n",
      "2000 0.00336386 [ 2.04827023] [-0.14192067]\n"
     ]
    },
    {
     "data": {
      "image/png": "[encoded data removed]",
      "text/plain": [
       "<matplotlib.figure.Figure at 0x11d365cc0>"
      ]
     },
     "metadata": {},
     "output_type": "display_data"
    }
   ],
   "source": [
    "x_data = [1., 2., 3., 4.]\n",
    "y_data = [2., 4., 6., 8.]\n",
    "\n",
    "# range is -100 ~ 100\n",
    "W = tf.Variable(tf.random_uniform([1], -100., 100.))\n",
    "b = tf.Variable(tf.random_uniform([1], -100., 100.))\n",
    "\n",
    "X = tf.placeholder(tf.float32)\n",
    "Y = tf.placeholder(tf.float32)\n",
    "\n",
    "hypothesis = W * X + b\n",
    "\n",
    "cost = tf.reduce_mean(tf.square(hypothesis - Y))\n",
    "\n",
    "rate = tf.Variable(0.01)\n",
    "optimizer = tf.train.GradientDescentOptimizer(rate)\n",
    "train = optimizer.minimize(cost)\n",
    "\n",
    "init = tf.global_variables_initializer()\n",
    "\n",
    "sess = tf.Session()\n",
    "sess.run(init)\n",
    "\n",
    "for step in range(2001):\n",
    "    sess.run(train, feed_dict={X: x_data, Y: y_data})\n",
    "    if step % 200 == 0 and step >= 200:\n",
    "        print(step, sess.run(cost, feed_dict={X: x_data, Y: y_data}), sess.run(W), sess.run(b))\n",
    "        plt.plot(x_data,sess.run(W)*x_data + sess.run(b))\n",
    "\n",
    "plt.ylabel('y')\n",
    "plt.xlabel('x')\n",
    "plt.show()\n",
    "\n",
    "# print(sess.run(hypothesis, feed_dict={X: 5}))           # [ 10.]\n",
    "# print(sess.run(hypothesis, feed_dict={X: 2.5}))         # [5.]\n",
    "\n"
   ]
  },
  {
   "cell_type": "markdown",
   "metadata": {},
   "source": [
    "## Logistic Classification\n",
    "Linear Regression을 활용해서 데이터를 분류하는 모델"
   ]
  },
  {
   "cell_type": "markdown",
   "metadata": {},
   "source": [
    "### Sigmoid\n",
    "sigmoid는 linear regression에서 가져온 값을 0과 1 사이의 값으로 변환한다. x가 0일 때, 0.5가 된다."
   ]
  },
  {
   "cell_type": "markdown",
   "metadata": {},
   "source": [
    "![title](sigmoid.png)"
   ]
  },
  {
   "cell_type": "markdown",
   "metadata": {},
   "source": [
    "### New cost function\n",
    "sigmoid 함수 적용으로 인해 새로운 cost function를 사용해야 한다."
   ]
  },
  {
   "cell_type": "markdown",
   "metadata": {},
   "source": [
    "![title](cost_function2.png)"
   ]
  },
  {
   "cell_type": "markdown",
   "metadata": {},
   "source": [
    "### Gradient Decent Algorithm"
   ]
  },
  {
   "cell_type": "markdown",
   "metadata": {},
   "source": [
    "![title](gradient.png)"
   ]
  },
  {
   "cell_type": "code",
   "execution_count": 10,
   "metadata": {
    "collapsed": true
   },
   "outputs": [],
   "source": [
    "import numpy as np\n",
    "import matplotlib.pyplot as plt"
   ]
  },
  {
   "cell_type": "code",
   "execution_count": 86,
   "metadata": {},
   "outputs": [
    {
     "name": "stdout",
     "output_type": "stream",
     "text": [
      "0 0.898549 [[-0.55525601  0.0623652   0.68821198]]\n",
      "200 0.45219 [[-2.1853776   0.19849353  0.44756472]]\n",
      "400 0.403499 [[-3.15210986  0.28918573  0.58467913]]\n",
      "600 0.379671 [[-3.83011079  0.34572631  0.68628526]]\n",
      "800 0.365941 [[-4.34534836  0.38418618  0.76665646]]\n",
      "1000 0.357153 [[-4.75775862  0.41196236  0.83298123]]\n",
      "1200 0.351106 [[-5.0999198   0.43291426  0.88934517]]\n",
      "1400 0.346722 [[-5.39130163  0.44924662  0.93828434]]\n",
      "1600 0.343413 [[-5.6444211   0.46231186  0.98148257]]\n",
      "1800 0.340836 [[-5.86775255  0.47298369  1.02011228]]\n",
      "2000 0.338779 [[-6.06729364  0.48185331  1.05502284]]\n",
      "-----------------------------------------\n",
      "[1, 2, 1] : [[False]]\n",
      "[1, 5, 5] : [[ True]]\n"
     ]
    }
   ],
   "source": [
    "import tensorflow as tf\n",
    "import numpy as np\n",
    "\n",
    "# 04train.txt\n",
    "# #x0 x1 x2 y\n",
    "# 1   2   1   0\n",
    "# 1   3   2   0\n",
    "# 1   3   5   0\n",
    "# 1   5   5   1\n",
    "# 1   7   5   1\n",
    "# 1   2   5   1\n",
    "\n",
    "# 원본 파일은 6행 4열이지만, 열 우선이라서 4행 6열로 가져옴\n",
    "xy = np.loadtxt('04train.txt', unpack=True, dtype='float32')\n",
    "\n",
    "# print(xy[0], xy[-1])        # [ 1.  1.  1.  1.  1.  1.] [ 0.  0.  0.  1.  1.  1.]\n",
    "\n",
    "x_data = xy[:-1]            # 3행 6열\n",
    "y_data = xy[-1]             # 1행 6열\n",
    "\n",
    "X = tf.placeholder(tf.float32)\n",
    "Y = tf.placeholder(tf.float32)\n",
    "\n",
    "# feature별 가중치를 난수로 초기화. feature는 bias 포함해서 3개. 1행 3열.\n",
    "W = tf.Variable(tf.random_uniform([1, len(x_data)], -1.0, 1.0))\n",
    "\n",
    "# 행렬 곱셈. (1x3) * (3x6)\n",
    "h = tf.matmul(W, X)\n",
    "hypothesis = tf.div(1., 1. + tf.exp(-h))    # exp(-h) = e ** -h. e는 자연상수\n",
    "\n",
    "cost = -tf.reduce_mean(Y * tf.log(hypothesis) + (1 - Y) * tf.log(1 - hypothesis))\n",
    "\n",
    "rate = tf.Variable(0.1)\n",
    "optimizer = tf.train.GradientDescentOptimizer(rate)\n",
    "train = optimizer.minimize(cost)\n",
    "\n",
    "init = tf.global_variables_initializer()\n",
    "\n",
    "sess = tf.Session()\n",
    "sess.run(init)\n",
    "\n",
    "for step in range(2001):\n",
    "    sess.run(train, feed_dict={X: x_data, Y: y_data})\n",
    "    if step % 200 == 0:\n",
    "        print(step, sess.run(cost, feed_dict={X: x_data, Y: y_data}), sess.run(W))\n",
    "\n",
    "print('-----------------------------------------')\n",
    "\n",
    "# 결과가 0 또는 1로 계산되는 것이 아니라 0과 1 사이의 값으로 나오기 때문에 True/False는 직접 판단\n",
    "print('[1, 2, 1] :', sess.run(hypothesis, feed_dict={X: [[1], [2], [1]]}) > 0.5)\n",
    "print('[1, 5, 5] :', sess.run(hypothesis, feed_dict={X: [[1], [5], [5]]}) > 0.5)\n",
    "sess.close()\n",
    "\n"
   ]
  },
  {
   "cell_type": "markdown",
   "metadata": {},
   "source": [
    "## Softmax Regression\n",
    "Logistic Regression을 부르는 다른 이름은 binary classification이다. 데이터를 1과 0의 두 가지 그룹으로 나누기 위해 사용하는 모델이다. Softmax는 데이터를 2개 이상의 그룹으로 나누기 위해 binary classification을 확장한 모델이다."
   ]
  },
  {
   "cell_type": "markdown",
   "metadata": {},
   "source": [
    "![title](softmax1.png)"
   ]
  },
  {
   "cell_type": "markdown",
   "metadata": {},
   "source": [
    "### Softmax\n",
    "softmax는 점수로 나온 결과를 전체 합계가 1이 되는 0과 1 사이의 값으로 변경해 준다. 전체를 더하면 1이 되기 때문에 확률(probabilites)이라고 부르면 의미가 더욱 분명해진다"
   ]
  },
  {
   "cell_type": "markdown",
   "metadata": {},
   "source": [
    "![title](softmax2.png)"
   ]
  },
  {
   "cell_type": "markdown",
   "metadata": {},
   "source": [
    "### One-Hot Encoding\n",
    "one-hot encoding은 softmax로 구한 값 중에서 가장 큰 값을 1로, 나머지를 0으로 만든다. 어떤 것을 선택할지를 확실하게 정리해 준다. one-hot encoding은 설명한 것처럼 매우 간단하기 때문에 직접 구현할 수도 있지만, 텐서플로우에서는 argmax 함수라는 이름으로 제공하고 있다."
   ]
  },
  {
   "cell_type": "markdown",
   "metadata": {},
   "source": [
    "![title](softmax3.png)"
   ]
  },
  {
   "cell_type": "markdown",
   "metadata": {},
   "source": [
    "### Cross-Entropy Cost Function\n",
    "S(Y)는 softmax가 예측한 값이고, L(Y)는 실제 Y의 값으로 L은 label을 의미한다. cost 함수는 예측한 값과 실제 값의 거리(distance, D)를 계산하는 함수로, 이 값이 줄어드는 방향으로, 즉 entropy가 감소하는 방향으로 진행하다 보면 최저점을 만나게 된다."
   ]
  },
  {
   "cell_type": "markdown",
   "metadata": {},
   "source": [
    "![title](softmax4.png)"
   ]
  },
  {
   "cell_type": "markdown",
   "metadata": {},
   "source": [
    "![title](softmax5.png)"
   ]
  },
  {
   "cell_type": "code",
   "execution_count": 12,
   "metadata": {
    "collapsed": true
   },
   "outputs": [],
   "source": [
    "import tensorflow as tf\n",
    "import numpy as np"
   ]
  },
  {
   "cell_type": "code",
   "execution_count": 91,
   "metadata": {},
   "outputs": [
    {
     "name": "stdout",
     "output_type": "stream",
     "text": [
      "   0   1.0678 [-0.00833333  0.00416667  0.00416666] [ 0.01666667  0.02916667 -0.04583334] [ 0.01666666  0.04166667 -0.05833334]\n",
      " 200 0.699681 [-1.5737735  -0.36410642  1.93788099] [ 0.0967759  -0.09235884 -0.00441682] [ 0.24915566  0.23823613 -0.48739177]\n",
      " 400 0.594579 [-2.54309034 -0.43173078  2.97482228] [ 0.13064831 -0.04841127 -0.08223619] [ 0.40734777  0.22857714 -0.63592446]\n",
      " 600 0.535829 [-3.31521416 -0.39115471  3.70637012] [ 0.13982886 -0.02464214 -0.11518568] [ 0.54843497  0.21297167 -0.76140594]\n",
      " 800 0.494312 [-3.98393679 -0.31143472  4.29537106] [ 0.1417881  -0.00935038 -0.13243635] [ 0.6748786   0.1950776  -0.86995488]\n",
      "1000 0.461916 [-4.58334923 -0.21852757  4.8018775 ] [ 0.14145668  0.00154199 -0.14299677] [ 0.78935486  0.17700934 -0.9663626 ]\n",
      "1200 0.435343 [-5.13021469 -0.12343737  5.25365353] [ 0.14044461  0.00979479 -0.15023731] [ 0.89399701  0.15975396 -1.05374885]\n",
      "1400 0.412891 [-5.63466215 -0.03106253  5.66572714] [ 0.1393245   0.01630212 -0.15562418] [ 0.99044132  0.14372151 -1.13416028]\n",
      "1600 0.393535 [-6.10366583  0.05645988  6.04720736] [ 0.13829574  0.02157287 -0.15986556] [ 1.07996321  0.12904176 -1.20900333]\n",
      "1800 0.376595 [-6.54242659  0.13831529  6.40411282] [ 0.13741526  0.02592302 -0.16333508] [ 1.16357517  0.11571171 -1.27928567]\n",
      "2000 0.361591 [-6.95501471  0.21433842  6.7406764 ] [ 0.13668649  0.02956286 -0.16624542] [ 1.2420913  0.1036661 -1.3457557]\n",
      "2200 0.348169 [-7.34470749  0.28468168  7.06002617] [ 0.13609275  0.03263915 -0.16872707] [ 1.31617439  0.09281436 -1.40898621]\n",
      "2400  0.33606 [-7.71420002  0.34964585  7.36455774] [ 0.13561255  0.03525931 -0.17086639] [ 1.38636887  0.08305811 -1.46942413]\n",
      "2600 0.325053 [-8.06574821  0.40959236  7.65615749] [ 0.13522536  0.03750427 -0.17272341] [ 1.45312846  0.07430083 -1.52742565]\n",
      "2800 0.314984 [-8.40124512  0.46489772  7.93635178] [ 0.13491319  0.03943677 -0.17434347] [ 1.51683164  0.06645141 -1.58327949]\n",
      "3000 0.305719 [-8.72231579  0.51593047  8.20638561] [ 0.13466108  0.04110633 -0.17576036] [ 1.57780051  0.0594258  -1.63722253]\n",
      "-------------------------------\n",
      "a : [[  9.18195665e-01   8.16900209e-02   1.14327857e-04]] [0]\n",
      "b : [[ 0.21065326  0.68458456  0.10476214]] [1]\n",
      "c : [[  6.06074408e-08   5.67564450e-04   9.99432385e-01]] [2]\n"
     ]
    }
   ],
   "source": [
    "# softmax이기 때문에 y를 표현할 때, 벡터로 표현한다.\n",
    "# 1개의 값으로 표현한다고 할 때, 뭐라고 쓸지도 사실 애매하다.\n",
    "\n",
    "# 05train.txt\n",
    "# #x0 x1 x2 y[A   B   C]\n",
    "# 1   2   1   0   0   1     # C\n",
    "# 1   3   2   0   0   1\n",
    "# 1   3   4   0   0   1\n",
    "# 1   5   5   0   1   0     # B\n",
    "# 1   7   5   0   1   0\n",
    "# 1   2   5   0   1   0\n",
    "# 1   6   6   1   0   0     # A\n",
    "# 1   7   7   1   0   0\n",
    "\n",
    "xy = np.loadtxt('05train.txt', unpack=True, dtype='float32')\n",
    "\n",
    "# xy는 6x8. xy[:3]은 3x8. 행렬 곱셈을 하기 위해 미리 transpose.\n",
    "x_data = np.transpose(xy[:3])\n",
    "y_data = np.transpose(xy[3:])\n",
    "\n",
    "# print('x_data :', x_data.shape)     # x_data : (8, 3)\n",
    "# print('y_data :', y_data.shape)     # y_data : (8, 3)\n",
    "\n",
    "X = tf.placeholder(\"float\", [None, 3])  # x_data와 같은 크기의 열 가짐. 행 크기는 모름.\n",
    "Y = tf.placeholder(\"float\", [None, 3])  # tf.float32라고 써도 됨\n",
    "\n",
    "W = tf.Variable(tf.zeros([3, 3]))       # 3x3 행렬. 전체 0.\n",
    "\n",
    "# softmax 알고리즘 적용. X*W = (8x3) * (3x3) = (8x3)\n",
    "hypothesis = tf.nn.softmax(tf.matmul(X, W))\n",
    "\n",
    "# cross-entropy cost 함수\n",
    "cost = tf.reduce_mean(-tf.reduce_sum(Y * tf.log(hypothesis), reduction_indices=1))\n",
    "\n",
    "learning_rate = 0.1\n",
    "train = tf.train.GradientDescentOptimizer(learning_rate).minimize(cost)\n",
    "\n",
    "init = tf.global_variables_initializer()\n",
    "\n",
    "with tf.Session() as sess:\n",
    "    sess.run(init)\n",
    "\n",
    "    for step in range(3001):\n",
    "        sess.run(train, feed_dict={X: x_data, Y: y_data})\n",
    "        if step % 200 == 0:\n",
    "            feed = {X: x_data, Y: y_data}\n",
    "            print('{:4} {:8.6}'.format(step, sess.run(cost, feed_dict=feed)), *sess.run(W))\n",
    "\n",
    "    print('-------------------------------')\n",
    "\n",
    "    # 1은 bias로 항상 1. (11, 7)은 x 입력\n",
    "    a = sess.run(hypothesis, feed_dict={X: [[1, 11, 7]]})\n",
    "    print(\"a :\", a, sess.run(tf.argmax(a, 1)))         \n",
    "\n",
    "    b = sess.run(hypothesis, feed_dict={X: [[1, 5, 5]]})\n",
    "    print(\"b :\", b, sess.run(tf.argmax(b, 1)))         \n",
    "\n",
    "    c = sess.run(hypothesis, feed_dict={X: [[1, 1, 0]]})\n",
    "    print(\"c :\", c, sess.run(tf.argmax(c, 1)))        \n"
   ]
  },
  {
   "cell_type": "markdown",
   "metadata": {},
   "source": [
    "## Deep Learning"
   ]
  },
  {
   "cell_type": "markdown",
   "metadata": {
    "collapsed": true
   },
   "source": [
    "### Human's Brain\n",
    "사람의 뇌와 비슷하게 동작하도록 구성. 일정 크기 이하라면 활성화(activation)되지 않도록 구성"
   ]
  },
  {
   "cell_type": "markdown",
   "metadata": {},
   "source": [
    "![title](deep2.png)"
   ]
  },
  {
   "cell_type": "markdown",
   "metadata": {},
   "source": [
    "![title](deep3.png)"
   ]
  },
  {
   "cell_type": "markdown",
   "metadata": {},
   "source": [
    "### XOR problem"
   ]
  },
  {
   "cell_type": "markdown",
   "metadata": {},
   "source": [
    "![title](xor.png)"
   ]
  },
  {
   "cell_type": "code",
   "execution_count": 14,
   "metadata": {
    "collapsed": true
   },
   "outputs": [],
   "source": [
    "import tensorflow as tf\n",
    "import numpy as np"
   ]
  },
  {
   "cell_type": "markdown",
   "metadata": {},
   "source": [
    "### Does Not Work.."
   ]
  },
  {
   "cell_type": "code",
   "execution_count": 15,
   "metadata": {},
   "outputs": [
    {
     "name": "stdout",
     "output_type": "stream",
     "text": [
      "0 0.719292 [[ 0.66528422 -0.638767  ]]\n",
      "200 0.69538 [[ 0.18945464 -0.1888227 ]]\n",
      "400 0.69333 [[ 0.05405878 -0.05404442]]\n",
      "600 0.693162 [[ 0.01542732 -0.015427  ]]\n",
      "800 0.693148 [[ 0.00440274 -0.00440265]]\n",
      "--------------------------------------------------\n",
      "[[ 0.5         0.49968395  0.50031608  0.50000006]]\n",
      "[[ 1.  0.  1.  1.]]\n",
      "[[False False  True False]]\n",
      "0.25\n",
      "Accuracy : 0.25\n"
     ]
    }
   ],
   "source": [
    "# 07train.txt\n",
    "# # x1 x2 y\n",
    "# 0   0   0\n",
    "# 0   1   1\n",
    "# 1   0   1\n",
    "# 1   1   0\n",
    "\n",
    "xy = np.loadtxt('07train.txt', unpack=True)\n",
    "\n",
    "x_data = xy[:-1]\n",
    "y_data = xy[-1]\n",
    "\n",
    "X = tf.placeholder(tf.float32)\n",
    "Y = tf.placeholder(tf.float32)\n",
    "\n",
    "W = tf.Variable(tf.random_uniform([1, len(x_data)], -1.0, 1.0))\n",
    "\n",
    "h = tf.matmul(W, X)\n",
    "hypothesis = tf.div(1., 1. + tf.exp(-h))\n",
    "\n",
    "cost = -tf.reduce_mean(Y * tf.log(hypothesis) + (1 - Y) * tf.log(1 - hypothesis))\n",
    "\n",
    "rate = tf.Variable(0.1)\n",
    "optimizer = tf.train.GradientDescentOptimizer(rate)\n",
    "train = optimizer.minimize(cost)\n",
    "\n",
    "init = tf.global_variables_initializer()\n",
    "\n",
    "with tf.Session() as sess:\n",
    "    sess.run(init)\n",
    "\n",
    "    for step in range(1000):\n",
    "        sess.run(train, feed_dict={X: x_data, Y: y_data})\n",
    "        if step % 200 == 0:\n",
    "            print(step, sess.run(cost, feed_dict={X: x_data, Y: y_data}), sess.run(W))\n",
    "    print('-'*50)\n",
    "\n",
    "    # Test model\n",
    "    correct_prediction = tf.equal(tf.floor(hypothesis+0.5), Y)\n",
    "\n",
    "    #Calculate accuraty\n",
    "    accuracy = tf.reduce_mean(tf.cast(correct_prediction, 'float'))\n",
    "    param = [hypothesis, tf.floor(hypothesis+0.5), correct_prediction, accuracy]\n",
    "    result = sess.run(param, feed_dict={X:x_data, Y:y_data})\n",
    "\n",
    "    for i in result:\n",
    "        print(i)\n",
    "    print('Accuracy :', accuracy.eval({X:x_data, Y:y_data}))"
   ]
  },
  {
   "cell_type": "markdown",
   "metadata": {},
   "source": [
    "### NN for XOR"
   ]
  },
  {
   "cell_type": "code",
   "execution_count": 93,
   "metadata": {},
   "outputs": [
    {
     "name": "stdout",
     "output_type": "stream",
     "text": [
      " 1000 0.69361567 [[-0.62957144 -0.63341898 -0.28585973 -0.44579151]] [[ 0.25430468  0.06575769]]\n",
      " 3000 0.69157255 [[-0.55039185 -0.78672272 -0.15172052 -0.63336241]] [[ 0.20783927 -0.37313291]]\n",
      " 5000 0.56416512 [[-0.81365776 -3.07515717 -0.37181348 -3.0292902 ]] [[ 0.89588499 -3.19002724]]\n",
      " 7000 0.14907683 [[-2.92574763 -5.33899879 -2.91690612 -5.2876029 ]] [[ 5.46567297 -6.81815004]]\n",
      " 9000 0.04340918 [[-4.09327698 -5.98034191 -4.0894537  -5.9538064 ]] [[ 7.96992588 -8.7071104 ]]\n",
      "--------------------------------------------------\n",
      "[ 0.02253103] [ 0.97256672] [ 0.97261804] [ 0.0442754]\n",
      "[ 0.] [ 1.] [ 1.] [ 0.]\n",
      "[ True] [ True] [ True] [ True]\n",
      "1.0\n",
      "Accuracy : 1.0\n"
     ]
    }
   ],
   "source": [
    "xy = np.loadtxt('07train.txt', unpack=True)\n",
    "\n",
    "x_data = np.transpose(xy[:-1])\n",
    "y_data = np.reshape(xy[-1], (4, 1))\n",
    "\n",
    "X = tf.placeholder(tf.float32)\n",
    "Y = tf.placeholder(tf.float32)\n",
    "\n",
    "W1 = tf.Variable(tf.random_uniform([2, 2], -1.0, 1.0))\n",
    "W2 = tf.Variable(tf.random_uniform([2, 1], -1.0, 1.0))\n",
    "\n",
    "b1 = tf.Variable(tf.zeros([2]))\n",
    "b2 = tf.Variable(tf.zeros([1]))\n",
    "\n",
    "L2 = tf.sigmoid(tf.matmul(X, W1) + b1)\n",
    "hypothesis = tf.sigmoid(tf.matmul(L2, W2) + b2)\n",
    "\n",
    "cost = -tf.reduce_mean(Y * tf.log(hypothesis) + (1 - Y) * tf.log(1 - hypothesis))\n",
    "\n",
    "rate = tf.Variable(0.1)\n",
    "optimizer = tf.train.GradientDescentOptimizer(rate)\n",
    "train = optimizer.minimize(cost)\n",
    "\n",
    "init = tf.global_variables_initializer()\n",
    "\n",
    "with tf.Session() as sess:\n",
    "    sess.run(init)\n",
    "\n",
    "    for step in range(10000):\n",
    "        sess.run(train, feed_dict={X: x_data, Y: y_data})\n",
    "        if step % 2000 == 999:\n",
    "            # b1과 b2는 출력 생략. 한 줄에 출력하기 위해 reshape 사용\n",
    "            r1, (r2, r3) = sess.run(cost, feed_dict={X: x_data, Y: y_data}), sess.run([W1, W2])\n",
    "            print('{:5} {:10.8f} {} {}'.format(step+1, r1, np.reshape(r2, (1,4)), np.reshape(r3, (1,2))))\n",
    "    print('-'*50)\n",
    "\n",
    "    # Test model\n",
    "    correct_prediction = tf.equal(tf.floor(hypothesis+0.5), Y)\n",
    "\n",
    "    #Calculate accuraty\n",
    "    accuracy = tf.reduce_mean(tf.cast(correct_prediction, 'float'))\n",
    "    param = [hypothesis, tf.floor(hypothesis+0.5), correct_prediction, accuracy]\n",
    "    result = sess.run(param, feed_dict={X:x_data, Y:y_data})\n",
    "\n",
    "    print(*result[0])\n",
    "    print(*result[1])\n",
    "    print(*result[2])\n",
    "    print( result[-1])\n",
    "    print('Accuracy :', accuracy.eval({X:x_data, Y:y_data}))"
   ]
  },
  {
   "cell_type": "markdown",
   "metadata": {
    "collapsed": true
   },
   "source": [
    "### MNIST"
   ]
  },
  {
   "cell_type": "markdown",
   "metadata": {},
   "source": [
    "#### Softmax"
   ]
  },
  {
   "cell_type": "code",
   "execution_count": 18,
   "metadata": {},
   "outputs": [
    {
     "name": "stdout",
     "output_type": "stream",
     "text": [
      "Extracting /tmp/data/train-images-idx3-ubyte.gz\n",
      "Extracting /tmp/data/train-labels-idx1-ubyte.gz\n",
      "Extracting /tmp/data/t10k-images-idx3-ubyte.gz\n",
      "Extracting /tmp/data/t10k-labels-idx1-ubyte.gz\n",
      "Epoch: 0001 cost= 0.548379772\n",
      "Epoch: 0002 cost= 0.365997937\n",
      "Epoch: 0003 cost= 0.336678850\n",
      "Epoch: 0004 cost= 0.321124137\n",
      "Epoch: 0005 cost= 0.311562937\n",
      "Epoch: 0006 cost= 0.304303360\n",
      "Epoch: 0007 cost= 0.298768657\n",
      "Epoch: 0008 cost= 0.294053870\n",
      "Epoch: 0009 cost= 0.290711079\n",
      "Epoch: 0010 cost= 0.287628350\n",
      "Epoch: 0011 cost= 0.285078243\n",
      "Epoch: 0012 cost= 0.282728591\n",
      "Epoch: 0013 cost= 0.280666281\n",
      "Epoch: 0014 cost= 0.278552884\n",
      "Epoch: 0015 cost= 0.277076334\n",
      "Epoch: 0016 cost= 0.275575479\n",
      "Epoch: 0017 cost= 0.274273545\n",
      "Epoch: 0018 cost= 0.272780013\n",
      "Epoch: 0019 cost= 0.271811423\n",
      "Epoch: 0020 cost= 0.270582262\n",
      "Epoch: 0021 cost= 0.269584267\n",
      "Epoch: 0022 cost= 0.268606179\n",
      "Epoch: 0023 cost= 0.267941275\n",
      "Epoch: 0024 cost= 0.266838480\n",
      "Epoch: 0025 cost= 0.266117674\n",
      "Label :  [9]\n",
      "Prediction : [9]\n"
     ]
    },
    {
     "data": {
      "image/png": "[encoded data removed]",
      "text/plain": [
       "<matplotlib.figure.Figure at 0x1176fcc18>"
      ]
     },
     "metadata": {},
     "output_type": "display_data"
    },
    {
     "name": "stdout",
     "output_type": "stream",
     "text": [
      "Optimization Finished!\n",
      "Accuracy: 0.924\n"
     ]
    }
   ],
   "source": [
    "import tensorflow as tf\n",
    "\n",
    "# Import MINST data\n",
    "from tensorflow.examples.tutorials.mnist import input_data\n",
    "mnist = input_data.read_data_sets(\"/tmp/data/\", one_hot=True)\n",
    "\n",
    "# Parameters.\n",
    "learning_rate = 0.1\n",
    "training_epochs = 25\n",
    "batch_size = 100\n",
    "display_step = 1\n",
    "\n",
    "# tf Graph Input\n",
    "x = tf.placeholder(tf.float32, [None, 784]) # mnist data image of shape 28*28=784\n",
    "y = tf.placeholder(tf.float32, [None, 10])  # 0-9 digits recognition => 10 classes\n",
    "\n",
    "# Set model weights\n",
    "W = tf.Variable(tf.zeros([784, 10]))\n",
    "b = tf.Variable(tf.zeros([10]))\n",
    "\n",
    "# Construct model\n",
    "hypothesis = tf.nn.softmax(tf.matmul(x, W) + b) # Softmax\n",
    "\n",
    "# Minimize error using cross entropy\n",
    "cost = tf.reduce_mean(-tf.reduce_sum(y*tf.log(hypothesis), reduction_indices=1))\n",
    "# Gradient Descent\n",
    "optimizer = tf.train.GradientDescentOptimizer(learning_rate).minimize(cost)\n",
    "\n",
    "# Initializing the variables\n",
    "init = tf.global_variables_initializer()\n",
    "\n",
    "# Launch the graph\n",
    "with tf.Session() as sess:\n",
    "    sess.run(init)\n",
    "\n",
    "    # Training cycle\n",
    "    for epoch in range(training_epochs):\n",
    "        avg_cost = 0.\n",
    "        # 나누어 떨어지지 않으면, 뒤쪽 이미지 일부는 사용하지 않는다.\n",
    "        total_batch = int(mnist.train.num_examples/batch_size)\n",
    "        # Loop over all batches\n",
    "        for i in range(total_batch):\n",
    "            batch_xs, batch_ys = mnist.train.next_batch(batch_size)\n",
    "            # Run optimization op (backprop) and cost op (to get loss value)\n",
    "            _, c = sess.run([optimizer, cost], feed_dict={x: batch_xs, y: batch_ys})\n",
    "\n",
    "            # 분할해서 구동하기 때문에 cost를 계속해서 누적시킨다. 전체 중의 일부에 대한 비용.\n",
    "            avg_cost += c / total_batch\n",
    "        # Display logs per epoch step. display_step이 1이기 때문에 if는 필요없다.\n",
    "        if (epoch+1) % display_step == 0:\n",
    "            print(\"Epoch:\", '%04d' % (epoch+1), \"cost=\", \"{:.9f}\".format(avg_cost))\n",
    "\n",
    "    # Label과 Prediction이 같은 값을 출력하면 맞는 것이다.\n",
    "    import random\n",
    "    r = random.randrange(mnist.test.num_examples)\n",
    "    print('Label : ', sess.run(tf.argmax(mnist.test.labels[r:r+1], 1)))\n",
    "    print('Prediction :', sess.run(tf.argmax(hypothesis, 1), {x: mnist.test.images[r:r+1]}))\n",
    "\n",
    "    # 1줄로 된 것을 28x28로 변환\n",
    "    import matplotlib.pyplot as plt\n",
    "    plt.imshow(mnist.test.images[r:r+1].reshape(28, 28), cmap='Greys', interpolation='nearest')\n",
    "    plt.show()\n",
    "\n",
    "    print(\"Optimization Finished!\")\n",
    "\n",
    "    # Test model\n",
    "    correct_prediction = tf.equal(tf.argmax(hypothesis, 1), tf.argmax(y, 1))\n",
    "    # Calculate accuracy\n",
    "    accuracy = tf.reduce_mean(tf.cast(correct_prediction, tf.float32))\n",
    "    print(\"Accuracy:\", accuracy.eval({x: mnist.test.images, y: mnist.test.labels}))"
   ]
  },
  {
   "cell_type": "markdown",
   "metadata": {},
   "source": [
    "#### Neural Network"
   ]
  },
  {
   "cell_type": "code",
   "execution_count": null,
   "metadata": {},
   "outputs": [],
   "source": [
    "import tensorflow as tf\n",
    "\n",
    "# Import MINST data\n",
    "from tensorflow.examples.tutorials.mnist import input_data\n",
    "mnist = input_data.read_data_sets(\"/tmp/data/\", one_hot=True)\n",
    "\n",
    "# Parameters. 반복문에서 사용하는데, 미리 만들어 놓았다.\n",
    "learning_rate = 0.001\n",
    "training_epochs = 15\n",
    "batch_size = 100\n",
    "display_step = 1\n",
    "\n",
    "# tf Graph Input\n",
    "X = tf.placeholder(tf.float32, [None, 784]) # mnist data image of shape 28*28=784\n",
    "Y = tf.placeholder(tf.float32, [None, 10])  # 0-9 digits recognition => 10 classes\n",
    "\n",
    "# --------------------------- 수정한 부분 ------------------------------ #\n",
    "# Set model weights\n",
    "W1 = tf.Variable(tf.random_normal([784, 256]))\n",
    "W2 = tf.Variable(tf.random_normal([256, 256]))\n",
    "W3 = tf.Variable(tf.random_normal([256,  10]))\n",
    "\n",
    "B1 = tf.Variable(tf.random_normal([256]))\n",
    "B2 = tf.Variable(tf.random_normal([256]))\n",
    "B3 = tf.Variable(tf.random_normal([ 10]))\n",
    "\n",
    "# Construct model\n",
    "L1 = tf.nn.relu(tf.add(tf.matmul(X, W1), B1))\n",
    "L2 = tf.nn.relu(tf.add(tf.matmul(L1, W2), B2)) # Hidden layer with ReLU activation\n",
    "hypothesis = tf.add(tf.matmul(L2, W3), B3)     # No need to use softmax here\n",
    "# ---------------------------- 여기까지 ------------------------------- #\n",
    "\n",
    "# Minimize error using cross entropy\n",
    "cost = tf.reduce_mean(tf.nn.softmax_cross_entropy_with_logits(logits=hypothesis, labels=Y))   # softmax loss\n",
    "# Gradient Descent\n",
    "optimizer = tf.train.AdamOptimizer(learning_rate=learning_rate).minimize(cost)\n",
    "\n",
    "# Initializing the variables\n",
    "init = tf.global_variables_initializer()\n",
    "\n",
    "# Launch the graph\n",
    "with tf.Session() as sess:\n",
    "    sess.run(init)\n",
    "\n",
    "    # Training cycle\n",
    "    for epoch in range(training_epochs):\n",
    "        avg_cost = 0.\n",
    "        # 나누어 떨어지지 않으면, 뒤쪽 이미지 일부는 사용하지 않는다.\n",
    "        total_batch = int(mnist.train.num_examples/batch_size)\n",
    "        # Loop over all batches\n",
    "        for i in range(total_batch):\n",
    "            batch_xs, batch_ys = mnist.train.next_batch(batch_size)\n",
    "            # Run optimization op (backprop) and cost op (to get loss value)\n",
    "            _, c = sess.run([optimizer, cost], feed_dict={X: batch_xs, Y: batch_ys})\n",
    "\n",
    "            # 분할해서 구동하기 때문에 cost를 계속해서 누적시킨다. 전체 중의 일부에 대한 비용.\n",
    "            avg_cost += c / total_batch\n",
    "        # Display logs per epoch step. display_step이 1이기 때문에 if는 필요없다.\n",
    "        if (epoch+1) % display_step == 0:\n",
    "            print(\"Epoch:\", '%04d' % (epoch+1), \"cost=\", \"{:.9f}\".format(avg_cost))\n",
    "\n",
    "    # Label과 Prediction이 같은 값을 출력하면 맞는 것이다.\n",
    "    import random\n",
    "    r = random.randrange(mnist.test.num_examples)\n",
    "    print('Label : ', sess.run(tf.argmax(mnist.test.labels[r:r+1], 1)))\n",
    "    print('Prediction :', sess.run(tf.argmax(hypothesis, 1), {X: mnist.test.images[r:r+1]}))\n",
    "\n",
    "    # 1줄로 된 것을 28x28로 변환\n",
    "    import matplotlib.pyplot as plt\n",
    "    plt.imshow(mnist.test.images[r:r+1].reshape(28, 28), cmap='Greys', interpolation='nearest')\n",
    "    plt.show()\n",
    "    \n",
    "    print(\"Optimization Finished!\")\n",
    "\n",
    "    # Test model\n",
    "    correct_prediction = tf.equal(tf.argmax(hypothesis, 1), tf.argmax(Y, 1))\n",
    "    # Calculate accuracy\n",
    "    accuracy = tf.reduce_mean(tf.cast(correct_prediction, tf.float32))\n",
    "    print(\"Accuracy:\", accuracy.eval({X: mnist.test.images, Y: mnist.test.labels}))"
   ]
  },
  {
   "cell_type": "markdown",
   "metadata": {
    "collapsed": true
   },
   "source": [
    "## Next.."
   ]
  },
  {
   "cell_type": "markdown",
   "metadata": {},
   "source": [
    "### Convolutional Neural Network"
   ]
  },
  {
   "cell_type": "markdown",
   "metadata": {},
   "source": [
    "### Recurrent Neural Network"
   ]
  }
 ],
 "metadata": {
  "kernelspec": {
   "display_name": "Python 3",
   "language": "python",
   "name": "python3"
  },
  "language_info": {
   "codemirror_mode": {
    "name": "ipython",
    "version": 3
   },
   "file_extension": ".py",
   "mimetype": "text/x-python",
   "name": "python",
   "nbconvert_exporter": "python",
   "pygments_lexer": "ipython3",
   "version": "3.6.1"
  }
 },
 "nbformat": 4,
 "nbformat_minor": 2
}
